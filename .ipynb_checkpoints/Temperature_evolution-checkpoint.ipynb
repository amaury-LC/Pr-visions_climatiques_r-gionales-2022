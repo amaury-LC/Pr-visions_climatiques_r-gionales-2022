{
 "cells": [
  {
   "cell_type": "markdown",
   "metadata": {},
   "source": [
    "# Evolution des températures\n",
    "\n",
    "\n",
    "Le dataset que l'on va utiliser:\n",
    "\n",
    "[Daily Temperature of Major Cities](https://www.kaggle.com/datasets/sudalairajkumar/daily-temperature-of-major-cities?select=city_temperature.csv)"
   ]
  },
  {
   "cell_type": "markdown",
   "metadata": {},
   "source": [
    "Questions:\n",
    "\n",
    "Global:\n",
    " - Quelle est la moyenne des températures par continent et par an ? \n",
    "On gardera seulement les villes qui ont plus de 80% de valeurs renseignées sur la période\n",
    " - Pour quelle ville et quelle année observe t'on l'écart de témpérature le plus grand ?\n",
    " \n",
    "Focus sur une ville: Bordeaux\n",
    "- Quelle est l'évolution de la température sur la période observée à Bordeaux ? \n",
    "- Observez-vous une tendance, une saisonnalité ? \n",
    " \n",
    " \n",
    "Théorique: \n",
    "- Qu'est-ce qu'un modèle ARIMA ? \n",
    "\n",
    "Mise en pratique\n",
    "- Modéliser la température à Bordeaux par un modèle ARIMA \n",
    "- Faites des prédictions sur l'année 2019 à partir de l'historique\n",
    "- Comparer avec la vraie distribution"
   ]
  },
  {
   "cell_type": "code",
   "execution_count": null,
   "metadata": {},
   "outputs": [],
   "source": []
  }
 ],
 "metadata": {
  "kernelspec": {
   "display_name": "Python 3",
   "language": "python",
   "name": "python3"
  },
  "language_info": {
   "codemirror_mode": {
    "name": "ipython",
    "version": 3
   },
   "file_extension": ".py",
   "mimetype": "text/x-python",
   "name": "python",
   "nbconvert_exporter": "python",
   "pygments_lexer": "ipython3",
   "version": "3.7.4"
  }
 },
 "nbformat": 4,
 "nbformat_minor": 4
}
